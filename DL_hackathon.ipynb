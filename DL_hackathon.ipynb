{
  "nbformat": 4,
  "nbformat_minor": 0,
  "metadata": {
    "colab": {
      "name": "Copy of DL hackathon.ipynb",
      "provenance": [],
      "include_colab_link": true
    },
    "kernelspec": {
      "name": "python3",
      "display_name": "Python 3"
    }
  },
  "cells": [
    {
      "cell_type": "markdown",
      "metadata": {
        "id": "view-in-github",
        "colab_type": "text"
      },
      "source": [
        "<a href=\"https://colab.research.google.com/github/shashi545/shashidhar/blob/master/DL_hackathon.ipynb\" target=\"_parent\"><img src=\"https://colab.research.google.com/assets/colab-badge.svg\" alt=\"Open In Colab\"/></a>"
      ]
    },
    {
      "cell_type": "markdown",
      "metadata": {
        "id": "aYWGumdn683c",
        "colab_type": "text"
      },
      "source": [
        "# **Loading the libraries**"
      ]
    },
    {
      "cell_type": "code",
      "metadata": {
        "id": "Ut3ms1mIFvAt",
        "colab_type": "code",
        "colab": {}
      },
      "source": [
        "from google.colab import drive"
      ],
      "execution_count": 0,
      "outputs": []
    },
    {
      "cell_type": "code",
      "metadata": {
        "id": "T2WZzasnGY-q",
        "colab_type": "code",
        "outputId": "d7ee1667-991b-4033-f415-ec19bf7934f3",
        "colab": {
          "base_uri": "https://localhost:8080/",
          "height": 122
        }
      },
      "source": [
        "drive.mount('/drive')"
      ],
      "execution_count": 0,
      "outputs": [
        {
          "output_type": "stream",
          "text": [
            "Go to this URL in a browser: https://accounts.google.com/o/oauth2/auth?client_id=947318989803-6bn6qk8qdgf4n4g3pfee6491hc0brc4i.apps.googleusercontent.com&redirect_uri=urn%3aietf%3awg%3aoauth%3a2.0%3aoob&response_type=code&scope=email%20https%3a%2f%2fwww.googleapis.com%2fauth%2fdocs.test%20https%3a%2f%2fwww.googleapis.com%2fauth%2fdrive%20https%3a%2f%2fwww.googleapis.com%2fauth%2fdrive.photos.readonly%20https%3a%2f%2fwww.googleapis.com%2fauth%2fpeopleapi.readonly\n",
            "\n",
            "Enter your authorization code:\n",
            "··········\n",
            "Mounted at /drive\n"
          ],
          "name": "stdout"
        }
      ]
    },
    {
      "cell_type": "code",
      "metadata": {
        "id": "rcjB8KeCGoTK",
        "colab_type": "code",
        "colab": {}
      },
      "source": [
        "import os\n",
        "import numpy as np\n",
        "import pandas as pd\n",
        "import matplotlib.pyplot as plt\n",
        "import seaborn as sns\n",
        "%matplotlib inline"
      ],
      "execution_count": 0,
      "outputs": []
    },
    {
      "cell_type": "code",
      "metadata": {
        "id": "5DJ2gCR-eMpG",
        "colab_type": "code",
        "colab": {}
      },
      "source": [
        "os.chdir('/drive/My Drive')"
      ],
      "execution_count": 0,
      "outputs": []
    },
    {
      "cell_type": "markdown",
      "metadata": {
        "id": "OTvgCL7mTkce",
        "colab_type": "text"
      },
      "source": [
        "# **LOAD THE TRAIN DATA**\n",
        "\n"
      ]
    },
    {
      "cell_type": "code",
      "metadata": {
        "id": "uO8njlOnpVGL",
        "colab_type": "code",
        "colab": {}
      },
      "source": [
        "df=pd.read_csv('hackathon_images_train.csv')"
      ],
      "execution_count": 0,
      "outputs": []
    },
    {
      "cell_type": "code",
      "metadata": {
        "id": "_duL0pQep9n6",
        "colab_type": "code",
        "outputId": "6d3bc443-c2ea-449d-c14a-ec97a3ebf1eb",
        "colab": {
          "base_uri": "https://localhost:8080/",
          "height": 253
        }
      },
      "source": [
        "df.head()"
      ],
      "execution_count": 0,
      "outputs": [
        {
          "output_type": "execute_result",
          "data": {
            "text/html": [
              "<div>\n",
              "<style scoped>\n",
              "    .dataframe tbody tr th:only-of-type {\n",
              "        vertical-align: middle;\n",
              "    }\n",
              "\n",
              "    .dataframe tbody tr th {\n",
              "        vertical-align: top;\n",
              "    }\n",
              "\n",
              "    .dataframe thead th {\n",
              "        text-align: right;\n",
              "    }\n",
              "</style>\n",
              "<table border=\"1\" class=\"dataframe\">\n",
              "  <thead>\n",
              "    <tr style=\"text-align: right;\">\n",
              "      <th></th>\n",
              "      <th>Labels</th>\n",
              "      <th>pixels0</th>\n",
              "      <th>pixels1</th>\n",
              "      <th>pixels2</th>\n",
              "      <th>pixels3</th>\n",
              "      <th>pixels4</th>\n",
              "      <th>pixels5</th>\n",
              "      <th>pixels6</th>\n",
              "      <th>pixels7</th>\n",
              "      <th>pixels8</th>\n",
              "      <th>pixels9</th>\n",
              "      <th>pixels10</th>\n",
              "      <th>pixels11</th>\n",
              "      <th>pixels12</th>\n",
              "      <th>pixels13</th>\n",
              "      <th>pixels14</th>\n",
              "      <th>pixels15</th>\n",
              "      <th>pixels16</th>\n",
              "      <th>pixels17</th>\n",
              "      <th>pixels18</th>\n",
              "      <th>pixels19</th>\n",
              "      <th>pixels20</th>\n",
              "      <th>pixels21</th>\n",
              "      <th>pixels22</th>\n",
              "      <th>pixels23</th>\n",
              "      <th>pixels24</th>\n",
              "      <th>pixels25</th>\n",
              "      <th>pixels26</th>\n",
              "      <th>pixels27</th>\n",
              "      <th>pixels28</th>\n",
              "      <th>pixels29</th>\n",
              "      <th>pixels30</th>\n",
              "      <th>pixels31</th>\n",
              "      <th>pixels32</th>\n",
              "      <th>pixels33</th>\n",
              "      <th>pixels34</th>\n",
              "      <th>pixels35</th>\n",
              "      <th>pixels36</th>\n",
              "      <th>pixels37</th>\n",
              "      <th>pixels38</th>\n",
              "      <th>...</th>\n",
              "      <th>pixels9960</th>\n",
              "      <th>pixels9961</th>\n",
              "      <th>pixels9962</th>\n",
              "      <th>pixels9963</th>\n",
              "      <th>pixels9964</th>\n",
              "      <th>pixels9965</th>\n",
              "      <th>pixels9966</th>\n",
              "      <th>pixels9967</th>\n",
              "      <th>pixels9968</th>\n",
              "      <th>pixels9969</th>\n",
              "      <th>pixels9970</th>\n",
              "      <th>pixels9971</th>\n",
              "      <th>pixels9972</th>\n",
              "      <th>pixels9973</th>\n",
              "      <th>pixels9974</th>\n",
              "      <th>pixels9975</th>\n",
              "      <th>pixels9976</th>\n",
              "      <th>pixels9977</th>\n",
              "      <th>pixels9978</th>\n",
              "      <th>pixels9979</th>\n",
              "      <th>pixels9980</th>\n",
              "      <th>pixels9981</th>\n",
              "      <th>pixels9982</th>\n",
              "      <th>pixels9983</th>\n",
              "      <th>pixels9984</th>\n",
              "      <th>pixels9985</th>\n",
              "      <th>pixels9986</th>\n",
              "      <th>pixels9987</th>\n",
              "      <th>pixels9988</th>\n",
              "      <th>pixels9989</th>\n",
              "      <th>pixels9990</th>\n",
              "      <th>pixels9991</th>\n",
              "      <th>pixels9992</th>\n",
              "      <th>pixels9993</th>\n",
              "      <th>pixels9994</th>\n",
              "      <th>pixels9995</th>\n",
              "      <th>pixels9996</th>\n",
              "      <th>pixels9997</th>\n",
              "      <th>pixels9998</th>\n",
              "      <th>pixels9999</th>\n",
              "    </tr>\n",
              "  </thead>\n",
              "  <tbody>\n",
              "    <tr>\n",
              "      <th>0</th>\n",
              "      <td>Faces_easy</td>\n",
              "      <td>84.0</td>\n",
              "      <td>83.0</td>\n",
              "      <td>82.0</td>\n",
              "      <td>80.0</td>\n",
              "      <td>77.0</td>\n",
              "      <td>76.0</td>\n",
              "      <td>71.0</td>\n",
              "      <td>71.0</td>\n",
              "      <td>72.0</td>\n",
              "      <td>73.0</td>\n",
              "      <td>73.0</td>\n",
              "      <td>65.0</td>\n",
              "      <td>65.0</td>\n",
              "      <td>62.0</td>\n",
              "      <td>63.0</td>\n",
              "      <td>68.0</td>\n",
              "      <td>65.0</td>\n",
              "      <td>65.0</td>\n",
              "      <td>72.0</td>\n",
              "      <td>77.0</td>\n",
              "      <td>86.0</td>\n",
              "      <td>85.0</td>\n",
              "      <td>88.0</td>\n",
              "      <td>84.0</td>\n",
              "      <td>87.0</td>\n",
              "      <td>82.0</td>\n",
              "      <td>79.0</td>\n",
              "      <td>62.0</td>\n",
              "      <td>80.0</td>\n",
              "      <td>80.0</td>\n",
              "      <td>83.0</td>\n",
              "      <td>84.0</td>\n",
              "      <td>82.0</td>\n",
              "      <td>87.0</td>\n",
              "      <td>91.0</td>\n",
              "      <td>87.0</td>\n",
              "      <td>85.0</td>\n",
              "      <td>85.0</td>\n",
              "      <td>89.0</td>\n",
              "      <td>...</td>\n",
              "      <td>189.0</td>\n",
              "      <td>185.0</td>\n",
              "      <td>193.0</td>\n",
              "      <td>194.0</td>\n",
              "      <td>195.0</td>\n",
              "      <td>197.0</td>\n",
              "      <td>194.0</td>\n",
              "      <td>190.0</td>\n",
              "      <td>188.0</td>\n",
              "      <td>185.0</td>\n",
              "      <td>184.0</td>\n",
              "      <td>186.0</td>\n",
              "      <td>186.0</td>\n",
              "      <td>185.0</td>\n",
              "      <td>187.0</td>\n",
              "      <td>188.0</td>\n",
              "      <td>184.0</td>\n",
              "      <td>187.0</td>\n",
              "      <td>183.0</td>\n",
              "      <td>184.0</td>\n",
              "      <td>188.0</td>\n",
              "      <td>192.0</td>\n",
              "      <td>193.0</td>\n",
              "      <td>202.0</td>\n",
              "      <td>206.0</td>\n",
              "      <td>207.0</td>\n",
              "      <td>203.0</td>\n",
              "      <td>228.0</td>\n",
              "      <td>226.0</td>\n",
              "      <td>226.0</td>\n",
              "      <td>225.0</td>\n",
              "      <td>213.0</td>\n",
              "      <td>221.0</td>\n",
              "      <td>220.0</td>\n",
              "      <td>219.0</td>\n",
              "      <td>221.0</td>\n",
              "      <td>222.0</td>\n",
              "      <td>222.0</td>\n",
              "      <td>222.0</td>\n",
              "      <td>223.0</td>\n",
              "    </tr>\n",
              "    <tr>\n",
              "      <th>1</th>\n",
              "      <td>airplanes</td>\n",
              "      <td>255.0</td>\n",
              "      <td>255.0</td>\n",
              "      <td>255.0</td>\n",
              "      <td>255.0</td>\n",
              "      <td>255.0</td>\n",
              "      <td>255.0</td>\n",
              "      <td>255.0</td>\n",
              "      <td>255.0</td>\n",
              "      <td>255.0</td>\n",
              "      <td>255.0</td>\n",
              "      <td>254.0</td>\n",
              "      <td>198.0</td>\n",
              "      <td>197.0</td>\n",
              "      <td>197.0</td>\n",
              "      <td>195.0</td>\n",
              "      <td>195.0</td>\n",
              "      <td>195.0</td>\n",
              "      <td>195.0</td>\n",
              "      <td>196.0</td>\n",
              "      <td>196.0</td>\n",
              "      <td>195.0</td>\n",
              "      <td>195.0</td>\n",
              "      <td>195.0</td>\n",
              "      <td>195.0</td>\n",
              "      <td>195.0</td>\n",
              "      <td>196.0</td>\n",
              "      <td>196.0</td>\n",
              "      <td>195.0</td>\n",
              "      <td>194.0</td>\n",
              "      <td>195.0</td>\n",
              "      <td>195.0</td>\n",
              "      <td>195.0</td>\n",
              "      <td>196.0</td>\n",
              "      <td>197.0</td>\n",
              "      <td>196.0</td>\n",
              "      <td>195.0</td>\n",
              "      <td>197.0</td>\n",
              "      <td>198.0</td>\n",
              "      <td>198.0</td>\n",
              "      <td>...</td>\n",
              "      <td>179.0</td>\n",
              "      <td>174.0</td>\n",
              "      <td>192.0</td>\n",
              "      <td>154.0</td>\n",
              "      <td>171.0</td>\n",
              "      <td>200.0</td>\n",
              "      <td>186.0</td>\n",
              "      <td>194.0</td>\n",
              "      <td>206.0</td>\n",
              "      <td>209.0</td>\n",
              "      <td>211.0</td>\n",
              "      <td>168.0</td>\n",
              "      <td>181.0</td>\n",
              "      <td>205.0</td>\n",
              "      <td>186.0</td>\n",
              "      <td>200.0</td>\n",
              "      <td>175.0</td>\n",
              "      <td>175.0</td>\n",
              "      <td>171.0</td>\n",
              "      <td>204.0</td>\n",
              "      <td>208.0</td>\n",
              "      <td>179.0</td>\n",
              "      <td>179.0</td>\n",
              "      <td>180.0</td>\n",
              "      <td>189.0</td>\n",
              "      <td>163.0</td>\n",
              "      <td>173.0</td>\n",
              "      <td>196.0</td>\n",
              "      <td>190.0</td>\n",
              "      <td>178.0</td>\n",
              "      <td>179.0</td>\n",
              "      <td>254.0</td>\n",
              "      <td>255.0</td>\n",
              "      <td>255.0</td>\n",
              "      <td>255.0</td>\n",
              "      <td>255.0</td>\n",
              "      <td>255.0</td>\n",
              "      <td>255.0</td>\n",
              "      <td>255.0</td>\n",
              "      <td>255.0</td>\n",
              "    </tr>\n",
              "    <tr>\n",
              "      <th>2</th>\n",
              "      <td>Motorbikes</td>\n",
              "      <td>255.0</td>\n",
              "      <td>255.0</td>\n",
              "      <td>255.0</td>\n",
              "      <td>255.0</td>\n",
              "      <td>255.0</td>\n",
              "      <td>255.0</td>\n",
              "      <td>255.0</td>\n",
              "      <td>255.0</td>\n",
              "      <td>255.0</td>\n",
              "      <td>255.0</td>\n",
              "      <td>255.0</td>\n",
              "      <td>255.0</td>\n",
              "      <td>255.0</td>\n",
              "      <td>255.0</td>\n",
              "      <td>255.0</td>\n",
              "      <td>255.0</td>\n",
              "      <td>255.0</td>\n",
              "      <td>255.0</td>\n",
              "      <td>255.0</td>\n",
              "      <td>255.0</td>\n",
              "      <td>255.0</td>\n",
              "      <td>255.0</td>\n",
              "      <td>255.0</td>\n",
              "      <td>255.0</td>\n",
              "      <td>255.0</td>\n",
              "      <td>255.0</td>\n",
              "      <td>255.0</td>\n",
              "      <td>255.0</td>\n",
              "      <td>255.0</td>\n",
              "      <td>255.0</td>\n",
              "      <td>255.0</td>\n",
              "      <td>255.0</td>\n",
              "      <td>255.0</td>\n",
              "      <td>255.0</td>\n",
              "      <td>255.0</td>\n",
              "      <td>255.0</td>\n",
              "      <td>255.0</td>\n",
              "      <td>255.0</td>\n",
              "      <td>255.0</td>\n",
              "      <td>...</td>\n",
              "      <td>15.0</td>\n",
              "      <td>16.0</td>\n",
              "      <td>19.0</td>\n",
              "      <td>17.0</td>\n",
              "      <td>16.0</td>\n",
              "      <td>16.0</td>\n",
              "      <td>18.0</td>\n",
              "      <td>12.0</td>\n",
              "      <td>25.0</td>\n",
              "      <td>20.0</td>\n",
              "      <td>17.0</td>\n",
              "      <td>20.0</td>\n",
              "      <td>18.0</td>\n",
              "      <td>16.0</td>\n",
              "      <td>51.0</td>\n",
              "      <td>28.0</td>\n",
              "      <td>23.0</td>\n",
              "      <td>12.0</td>\n",
              "      <td>16.0</td>\n",
              "      <td>57.0</td>\n",
              "      <td>22.0</td>\n",
              "      <td>16.0</td>\n",
              "      <td>10.0</td>\n",
              "      <td>17.0</td>\n",
              "      <td>20.0</td>\n",
              "      <td>25.0</td>\n",
              "      <td>26.0</td>\n",
              "      <td>223.0</td>\n",
              "      <td>254.0</td>\n",
              "      <td>255.0</td>\n",
              "      <td>255.0</td>\n",
              "      <td>255.0</td>\n",
              "      <td>255.0</td>\n",
              "      <td>255.0</td>\n",
              "      <td>255.0</td>\n",
              "      <td>255.0</td>\n",
              "      <td>255.0</td>\n",
              "      <td>255.0</td>\n",
              "      <td>255.0</td>\n",
              "      <td>255.0</td>\n",
              "    </tr>\n",
              "    <tr>\n",
              "      <th>3</th>\n",
              "      <td>Leopards</td>\n",
              "      <td>2.0</td>\n",
              "      <td>0.0</td>\n",
              "      <td>2.0</td>\n",
              "      <td>1.0</td>\n",
              "      <td>0.0</td>\n",
              "      <td>2.0</td>\n",
              "      <td>1.0</td>\n",
              "      <td>0.0</td>\n",
              "      <td>2.0</td>\n",
              "      <td>2.0</td>\n",
              "      <td>2.0</td>\n",
              "      <td>2.0</td>\n",
              "      <td>2.0</td>\n",
              "      <td>1.0</td>\n",
              "      <td>1.0</td>\n",
              "      <td>0.0</td>\n",
              "      <td>0.0</td>\n",
              "      <td>1.0</td>\n",
              "      <td>0.0</td>\n",
              "      <td>2.0</td>\n",
              "      <td>3.0</td>\n",
              "      <td>2.0</td>\n",
              "      <td>1.0</td>\n",
              "      <td>1.0</td>\n",
              "      <td>1.0</td>\n",
              "      <td>1.0</td>\n",
              "      <td>1.0</td>\n",
              "      <td>1.0</td>\n",
              "      <td>1.0</td>\n",
              "      <td>2.0</td>\n",
              "      <td>0.0</td>\n",
              "      <td>0.0</td>\n",
              "      <td>2.0</td>\n",
              "      <td>6.0</td>\n",
              "      <td>2.0</td>\n",
              "      <td>3.0</td>\n",
              "      <td>0.0</td>\n",
              "      <td>2.0</td>\n",
              "      <td>2.0</td>\n",
              "      <td>...</td>\n",
              "      <td>18.0</td>\n",
              "      <td>24.0</td>\n",
              "      <td>24.0</td>\n",
              "      <td>19.0</td>\n",
              "      <td>24.0</td>\n",
              "      <td>15.0</td>\n",
              "      <td>20.0</td>\n",
              "      <td>16.0</td>\n",
              "      <td>22.0</td>\n",
              "      <td>16.0</td>\n",
              "      <td>25.0</td>\n",
              "      <td>18.0</td>\n",
              "      <td>20.0</td>\n",
              "      <td>25.0</td>\n",
              "      <td>26.0</td>\n",
              "      <td>21.0</td>\n",
              "      <td>22.0</td>\n",
              "      <td>20.0</td>\n",
              "      <td>23.0</td>\n",
              "      <td>18.0</td>\n",
              "      <td>20.0</td>\n",
              "      <td>21.0</td>\n",
              "      <td>17.0</td>\n",
              "      <td>22.0</td>\n",
              "      <td>16.0</td>\n",
              "      <td>22.0</td>\n",
              "      <td>12.0</td>\n",
              "      <td>14.0</td>\n",
              "      <td>19.0</td>\n",
              "      <td>18.0</td>\n",
              "      <td>17.0</td>\n",
              "      <td>18.0</td>\n",
              "      <td>13.0</td>\n",
              "      <td>17.0</td>\n",
              "      <td>19.0</td>\n",
              "      <td>14.0</td>\n",
              "      <td>20.0</td>\n",
              "      <td>11.0</td>\n",
              "      <td>2.0</td>\n",
              "      <td>5.0</td>\n",
              "    </tr>\n",
              "    <tr>\n",
              "      <th>4</th>\n",
              "      <td>Faces</td>\n",
              "      <td>125.0</td>\n",
              "      <td>123.0</td>\n",
              "      <td>123.0</td>\n",
              "      <td>120.0</td>\n",
              "      <td>120.0</td>\n",
              "      <td>116.0</td>\n",
              "      <td>114.0</td>\n",
              "      <td>114.0</td>\n",
              "      <td>115.0</td>\n",
              "      <td>99.0</td>\n",
              "      <td>63.0</td>\n",
              "      <td>183.0</td>\n",
              "      <td>185.0</td>\n",
              "      <td>188.0</td>\n",
              "      <td>191.0</td>\n",
              "      <td>197.0</td>\n",
              "      <td>199.0</td>\n",
              "      <td>193.0</td>\n",
              "      <td>195.0</td>\n",
              "      <td>203.0</td>\n",
              "      <td>202.0</td>\n",
              "      <td>205.0</td>\n",
              "      <td>208.0</td>\n",
              "      <td>210.0</td>\n",
              "      <td>209.0</td>\n",
              "      <td>209.0</td>\n",
              "      <td>210.0</td>\n",
              "      <td>217.0</td>\n",
              "      <td>217.0</td>\n",
              "      <td>218.0</td>\n",
              "      <td>217.0</td>\n",
              "      <td>220.0</td>\n",
              "      <td>221.0</td>\n",
              "      <td>219.0</td>\n",
              "      <td>214.0</td>\n",
              "      <td>213.0</td>\n",
              "      <td>209.0</td>\n",
              "      <td>218.0</td>\n",
              "      <td>223.0</td>\n",
              "      <td>...</td>\n",
              "      <td>193.0</td>\n",
              "      <td>190.0</td>\n",
              "      <td>192.0</td>\n",
              "      <td>195.0</td>\n",
              "      <td>185.0</td>\n",
              "      <td>189.0</td>\n",
              "      <td>187.0</td>\n",
              "      <td>171.0</td>\n",
              "      <td>187.0</td>\n",
              "      <td>187.0</td>\n",
              "      <td>196.0</td>\n",
              "      <td>187.0</td>\n",
              "      <td>186.0</td>\n",
              "      <td>173.0</td>\n",
              "      <td>183.0</td>\n",
              "      <td>183.0</td>\n",
              "      <td>172.0</td>\n",
              "      <td>180.0</td>\n",
              "      <td>181.0</td>\n",
              "      <td>175.0</td>\n",
              "      <td>173.0</td>\n",
              "      <td>172.0</td>\n",
              "      <td>169.0</td>\n",
              "      <td>166.0</td>\n",
              "      <td>164.0</td>\n",
              "      <td>152.0</td>\n",
              "      <td>140.0</td>\n",
              "      <td>135.0</td>\n",
              "      <td>84.0</td>\n",
              "      <td>86.0</td>\n",
              "      <td>104.0</td>\n",
              "      <td>123.0</td>\n",
              "      <td>123.0</td>\n",
              "      <td>102.0</td>\n",
              "      <td>139.0</td>\n",
              "      <td>116.0</td>\n",
              "      <td>100.0</td>\n",
              "      <td>112.0</td>\n",
              "      <td>118.0</td>\n",
              "      <td>139.0</td>\n",
              "    </tr>\n",
              "  </tbody>\n",
              "</table>\n",
              "<p>5 rows × 10001 columns</p>\n",
              "</div>"
            ],
            "text/plain": [
              "       Labels  pixels0  pixels1  ...  pixels9997  pixels9998  pixels9999\n",
              "0  Faces_easy     84.0     83.0  ...       222.0       222.0       223.0\n",
              "1   airplanes    255.0    255.0  ...       255.0       255.0       255.0\n",
              "2  Motorbikes    255.0    255.0  ...       255.0       255.0       255.0\n",
              "3    Leopards      2.0      0.0  ...        11.0         2.0         5.0\n",
              "4       Faces    125.0    123.0  ...       112.0       118.0       139.0\n",
              "\n",
              "[5 rows x 10001 columns]"
            ]
          },
          "metadata": {
            "tags": []
          },
          "execution_count": 9
        }
      ]
    },
    {
      "cell_type": "code",
      "metadata": {
        "id": "1WnXzE3jqUYa",
        "colab_type": "code",
        "outputId": "14730e02-f2ac-4405-b465-e3b51d8b77e1",
        "colab": {
          "base_uri": "https://localhost:8080/",
          "height": 34
        }
      },
      "source": [
        "X=df.iloc[:,1:].values\n",
        "Y=df.iloc[:,0].values.reshape(-1,1)\n",
        "X.shape,Y.shape"
      ],
      "execution_count": 0,
      "outputs": [
        {
          "output_type": "execute_result",
          "data": {
            "text/plain": [
              "((1671, 10000), (1671, 1))"
            ]
          },
          "metadata": {
            "tags": []
          },
          "execution_count": 18
        }
      ]
    },
    {
      "cell_type": "markdown",
      "metadata": {
        "id": "LRpFDl-_7nGL",
        "colab_type": "text"
      },
      "source": [
        "## **Image preprocessing**"
      ]
    },
    {
      "cell_type": "code",
      "metadata": {
        "id": "N3u6Bf2IsOuV",
        "colab_type": "code",
        "outputId": "8f611271-f3ee-4ffa-ea00-04aa8d09b9a9",
        "colab": {
          "base_uri": "https://localhost:8080/",
          "height": 173
        }
      },
      "source": [
        "def visualize_img(i):\n",
        "    img = X[i:i+1] # flatten Image for 3rd row(2nd index)image to 4th row (but n-1 row)so only 3rd row image\n",
        "    img = img.reshape(100,100) # reshaped Image\n",
        "    plt.figure(figsize=(2,2))\n",
        "    plt.imshow(img,cmap='gray')\n",
        "    plt.title('Label: {}'.format(y[i][0]))\n",
        "\n",
        "visualize_img(3) # 3rd row image\n"
      ],
      "execution_count": 0,
      "outputs": [
        {
          "output_type": "display_data",
          "data": {
            "image/png": "[encoded data removed]",
            "text/plain": [
              "<Figure size 144x144 with 1 Axes>"
            ]
          },
          "metadata": {
            "tags": []
          }
        }
      ]
    },
    {
      "cell_type": "code",
      "metadata": {
        "id": "uVFcuohyvBrM",
        "colab_type": "code",
        "outputId": "ea62f345-c559-450b-d0a3-d1e82a6a1fba",
        "colab": {
          "base_uri": "https://localhost:8080/",
          "height": 136
        }
      },
      "source": [
        "X_norm = X/X.max() # min max scalling\n",
        "\n",
        "# onehot enconding of y\n",
        "from sklearn.preprocessing import OneHotEncoder # like dummies\n",
        "ohe = OneHotEncoder()\n",
        "y_hot = ohe.fit_transform(y).toarray()\n",
        "y_hot"
      ],
      "execution_count": 0,
      "outputs": [
        {
          "output_type": "execute_result",
          "data": {
            "text/plain": [
              "array([[0., 1., 0., ..., 0., 0., 0.],\n",
              "       [0., 0., 0., ..., 0., 0., 0.],\n",
              "       [0., 0., 0., ..., 0., 0., 0.],\n",
              "       ...,\n",
              "       [0., 0., 0., ..., 0., 0., 0.],\n",
              "       [0., 1., 0., ..., 0., 0., 0.],\n",
              "       [0., 0., 0., ..., 0., 0., 0.]])"
            ]
          },
          "metadata": {
            "tags": []
          },
          "execution_count": 20
        }
      ]
    },
    {
      "cell_type": "code",
      "metadata": {
        "id": "FBx0FknnymN5",
        "colab_type": "code",
        "outputId": "c0742e5f-052c-4c36-eb5b-be1a7aee9017",
        "colab": {
          "base_uri": "https://localhost:8080/",
          "height": 34
        }
      },
      "source": [
        "from sklearn.model_selection import train_test_split\n",
        "x_train,x_test,y_train,y_test = train_test_split(X_norm,y_hot,test_size=0.2)\n",
        "x_train.shape, x_test.shape,y_train.shape, y_test.shape"
      ],
      "execution_count": 0,
      "outputs": [
        {
          "output_type": "execute_result",
          "data": {
            "text/plain": [
              "((1336, 10000), (335, 10000), (1336, 8), (335, 8))"
            ]
          },
          "metadata": {
            "tags": []
          },
          "execution_count": 21
        }
      ]
    },
    {
      "cell_type": "markdown",
      "metadata": {
        "id": "5dDSnV4vqAzs",
        "colab_type": "text"
      },
      "source": [
        "## **CNN**\n"
      ]
    },
    {
      "cell_type": "code",
      "metadata": {
        "id": "19kkmvuOysgh",
        "colab_type": "code",
        "outputId": "588646ca-1d82-42ff-91a0-5604e821f2c1",
        "colab": {
          "base_uri": "https://localhost:8080/",
          "height": 63
        }
      },
      "source": [
        "from tensorflow.keras import Sequential\n",
        "from tensorflow.keras.layers import Dense\n",
        "from tensorflow.keras.callbacks import TensorBoard\n",
        "from tensorflow.keras import regularizers"
      ],
      "execution_count": 0,
      "outputs": [
        {
          "output_type": "display_data",
          "data": {
            "text/html": [
              "<p style=\"color: red;\">\n",
              "The default version of TensorFlow in Colab will soon switch to TensorFlow 2.x.<br>\n",
              "We recommend you <a href=\"https://www.tensorflow.org/guide/migrate\" target=\"_blank\">upgrade</a> now \n",
              "or ensure your notebook will continue to use TensorFlow 1.x via the <code>%tensorflow_version 1.x</code> magic:\n",
              "<a href=\"https://colab.research.google.com/notebooks/tensorflow_version.ipynb\" target=\"_blank\">more info</a>.</p>\n"
            ],
            "text/plain": [
              "<IPython.core.display.HTML object>"
            ]
          },
          "metadata": {
            "tags": []
          }
        }
      ]
    },
    {
      "cell_type": "code",
      "metadata": {
        "id": "hSH54GGqy1AK",
        "colab_type": "code",
        "colab": {}
      },
      "source": [
        "from tensorflow.keras.layers import Conv2D, MaxPool2D, Dropout, Flatten"
      ],
      "execution_count": 0,
      "outputs": []
    },
    {
      "cell_type": "code",
      "metadata": {
        "id": "TwpsxJg7zEeW",
        "colab_type": "code",
        "outputId": "193753c5-2826-480d-bfea-12e14666786e",
        "colab": {
          "base_uri": "https://localhost:8080/",
          "height": 34
        }
      },
      "source": [
        "x_train_reshape = x_train.reshape(-1,100,100,1)\n",
        "x_test_reshape = x_test.reshape(-1,100,100,1)\n",
        "\n",
        "x_train_reshape.shape,x_test_reshape.shape"
      ],
      "execution_count": 0,
      "outputs": [
        {
          "output_type": "execute_result",
          "data": {
            "text/plain": [
              "((1336, 100, 100, 1), (335, 100, 100, 1))"
            ]
          },
          "metadata": {
            "tags": []
          },
          "execution_count": 25
        }
      ]
    },
    {
      "cell_type": "code",
      "metadata": {
        "id": "hnaMZdZL0MVk",
        "colab_type": "code",
        "outputId": "9bfe88c7-a094-4ff3-d259-2aee879a4957",
        "colab": {
          "base_uri": "https://localhost:8080/",
          "height": 1000
        }
      },
      "source": [
        "def conv_neural_network():\n",
        "    model=Sequential()\n",
        "    # Convolutional layer\n",
        "    model.add(Conv2D(input_shape=(100,100,1),filters=30,kernel_size=(3,3),strides=(1,1),activation='relu'))\n",
        "    model.add(Conv2D(filters=60,kernel_size=(5,5),strides=(1,1),activation='relu'))\n",
        "    model.add(MaxPool2D(pool_size=(2,2)))\n",
        "    model.add(Conv2D(filters=30,kernel_size=(3,3),strides=(1,1),activation='relu'))\n",
        "    model.add(MaxPool2D(pool_size=(2,2)))\n",
        "    # Flatten\n",
        "    model.add(Flatten())\n",
        "    # Neural network\n",
        "    model.add(Dense(units=100,activation='relu',kernel_regularizer=regularizers.l2(l=0.01)))# input connected to output\n",
        "    model.add(Dense(units=100,activation='relu',kernel_regularizer=regularizers.l2(l=0.01)))\n",
        "    model.add(Dense(units=8,activation='softmax'))\n",
        "    model.compile(optimizer='adam',loss='categorical_crossentropy',metrics=['acc'])\n",
        "    return model\n",
        "\n",
        "# calling baseline model\n",
        "conv_nn = conv_neural_network()\n",
        "print(conv_nn.summary())\n",
        "# initializing tensorboard\n",
        "tfb = TensorBoard('image')\n",
        "# Training Model \n",
        "history = conv_nn.fit(x=x_train_reshape,y=y_train,batch_size=30,epochs=20,callbacks=[tfb],validation_data=[x_test_reshape,y_test])\n"
      ],
      "execution_count": 0,
      "outputs": [
        {
          "output_type": "stream",
          "text": [
            "Model: \"sequential_3\"\n",
            "_________________________________________________________________\n",
            "Layer (type)                 Output Shape              Param #   \n",
            "=================================================================\n",
            "conv2d_6 (Conv2D)            (None, 98, 98, 30)        300       \n",
            "_________________________________________________________________\n",
            "conv2d_7 (Conv2D)            (None, 94, 94, 60)        45060     \n",
            "_________________________________________________________________\n",
            "max_pooling2d_4 (MaxPooling2 (None, 47, 47, 60)        0         \n",
            "_________________________________________________________________\n",
            "conv2d_8 (Conv2D)            (None, 45, 45, 30)        16230     \n",
            "_________________________________________________________________\n",
            "max_pooling2d_5 (MaxPooling2 (None, 22, 22, 30)        0         \n",
            "_________________________________________________________________\n",
            "flatten_2 (Flatten)          (None, 14520)             0         \n",
            "_________________________________________________________________\n",
            "dense_9 (Dense)              (None, 100)               1452100   \n",
            "_________________________________________________________________\n",
            "dense_10 (Dense)             (None, 100)               10100     \n",
            "_________________________________________________________________\n",
            "dense_11 (Dense)             (None, 8)                 808       \n",
            "=================================================================\n",
            "Total params: 1,524,598\n",
            "Trainable params: 1,524,598\n",
            "Non-trainable params: 0\n",
            "_________________________________________________________________\n",
            "None\n",
            "Train on 1336 samples, validate on 335 samples\n",
            "Epoch 1/20\n",
            "1336/1336 [==============================] - 122s 91ms/sample - loss: 2.7152 - acc: 0.4708 - val_loss: 1.5801 - val_acc: 0.6896\n",
            "Epoch 2/20\n",
            "1336/1336 [==============================] - 121s 91ms/sample - loss: 1.1773 - acc: 0.8346 - val_loss: 1.0807 - val_acc: 0.8448\n",
            "Epoch 3/20\n",
            "1336/1336 [==============================] - 121s 90ms/sample - loss: 0.8795 - acc: 0.8787 - val_loss: 0.8219 - val_acc: 0.9075\n",
            "Epoch 4/20\n",
            "1336/1336 [==============================] - 121s 90ms/sample - loss: 0.6598 - acc: 0.9326 - val_loss: 0.7484 - val_acc: 0.9104\n",
            "Epoch 5/20\n",
            "1336/1336 [==============================] - 120s 90ms/sample - loss: 0.5451 - acc: 0.9528 - val_loss: 0.7564 - val_acc: 0.8866\n",
            "Epoch 6/20\n",
            "1336/1336 [==============================] - 121s 90ms/sample - loss: 0.4588 - acc: 0.9648 - val_loss: 0.6712 - val_acc: 0.9045\n",
            "Epoch 7/20\n",
            "1336/1336 [==============================] - 120s 90ms/sample - loss: 0.4207 - acc: 0.9678 - val_loss: 0.6193 - val_acc: 0.9045\n",
            "Epoch 8/20\n",
            "1336/1336 [==============================] - 120s 90ms/sample - loss: 0.4048 - acc: 0.9641 - val_loss: 0.6891 - val_acc: 0.9045\n",
            "Epoch 9/20\n",
            "1336/1336 [==============================] - 120s 90ms/sample - loss: 0.3907 - acc: 0.9686 - val_loss: 0.6285 - val_acc: 0.9134\n",
            "Epoch 10/20\n",
            "1336/1336 [==============================] - 120s 90ms/sample - loss: 0.3423 - acc: 0.9835 - val_loss: 0.5881 - val_acc: 0.9164\n",
            "Epoch 11/20\n",
            "1336/1336 [==============================] - 120s 90ms/sample - loss: 0.3455 - acc: 0.9775 - val_loss: 0.7292 - val_acc: 0.8866\n",
            "Epoch 12/20\n",
            "1336/1336 [==============================] - 120s 90ms/sample - loss: 0.4086 - acc: 0.9618 - val_loss: 0.7724 - val_acc: 0.8687\n",
            "Epoch 13/20\n",
            "1336/1336 [==============================] - 119s 89ms/sample - loss: 0.3844 - acc: 0.9671 - val_loss: 0.6597 - val_acc: 0.8896\n",
            "Epoch 14/20\n",
            "1336/1336 [==============================] - 120s 90ms/sample - loss: 0.3635 - acc: 0.9775 - val_loss: 0.6300 - val_acc: 0.9224\n",
            "Epoch 15/20\n",
            "1336/1336 [==============================] - 120s 90ms/sample - loss: 0.2904 - acc: 0.9925 - val_loss: 0.6246 - val_acc: 0.9194\n",
            "Epoch 16/20\n",
            "1336/1336 [==============================] - 120s 90ms/sample - loss: 0.2549 - acc: 0.9903 - val_loss: 0.6151 - val_acc: 0.8925\n",
            "Epoch 17/20\n",
            "1336/1336 [==============================] - 120s 90ms/sample - loss: 0.3034 - acc: 0.9746 - val_loss: 0.5679 - val_acc: 0.9194\n",
            "Epoch 18/20\n",
            "1336/1336 [==============================] - 119s 89ms/sample - loss: 0.2965 - acc: 0.9790 - val_loss: 0.6124 - val_acc: 0.9254\n",
            "Epoch 19/20\n",
            "1336/1336 [==============================] - 119s 89ms/sample - loss: 0.2407 - acc: 0.9918 - val_loss: 0.5084 - val_acc: 0.9313\n",
            "Epoch 20/20\n",
            "1336/1336 [==============================] - 120s 90ms/sample - loss: 0.1909 - acc: 0.9985 - val_loss: 0.5422 - val_acc: 0.9164\n"
          ],
          "name": "stdout"
        }
      ]
    },
    {
      "cell_type": "code",
      "metadata": {
        "id": "Qtz6ylBQ0Wsu",
        "colab_type": "code",
        "outputId": "2450196d-b700-42c4-b32e-d744464623d1",
        "colab": {
          "base_uri": "https://localhost:8080/",
          "height": 142
        }
      },
      "source": [
        "data_loss_nn = pd.DataFrame(history.history)\n",
        "data_loss_nn.head(3)"
      ],
      "execution_count": 0,
      "outputs": [
        {
          "output_type": "execute_result",
          "data": {
            "text/html": [
              "<div>\n",
              "<style scoped>\n",
              "    .dataframe tbody tr th:only-of-type {\n",
              "        vertical-align: middle;\n",
              "    }\n",
              "\n",
              "    .dataframe tbody tr th {\n",
              "        vertical-align: top;\n",
              "    }\n",
              "\n",
              "    .dataframe thead th {\n",
              "        text-align: right;\n",
              "    }\n",
              "</style>\n",
              "<table border=\"1\" class=\"dataframe\">\n",
              "  <thead>\n",
              "    <tr style=\"text-align: right;\">\n",
              "      <th></th>\n",
              "      <th>loss</th>\n",
              "      <th>acc</th>\n",
              "      <th>val_loss</th>\n",
              "      <th>val_acc</th>\n",
              "    </tr>\n",
              "  </thead>\n",
              "  <tbody>\n",
              "    <tr>\n",
              "      <th>0</th>\n",
              "      <td>2.715196</td>\n",
              "      <td>0.470808</td>\n",
              "      <td>1.580066</td>\n",
              "      <td>0.689552</td>\n",
              "    </tr>\n",
              "    <tr>\n",
              "      <th>1</th>\n",
              "      <td>1.177330</td>\n",
              "      <td>0.834581</td>\n",
              "      <td>1.080720</td>\n",
              "      <td>0.844776</td>\n",
              "    </tr>\n",
              "    <tr>\n",
              "      <th>2</th>\n",
              "      <td>0.879534</td>\n",
              "      <td>0.878743</td>\n",
              "      <td>0.821919</td>\n",
              "      <td>0.907463</td>\n",
              "    </tr>\n",
              "  </tbody>\n",
              "</table>\n",
              "</div>"
            ],
            "text/plain": [
              "       loss       acc  val_loss   val_acc\n",
              "0  2.715196  0.470808  1.580066  0.689552\n",
              "1  1.177330  0.834581  1.080720  0.844776\n",
              "2  0.879534  0.878743  0.821919  0.907463"
            ]
          },
          "metadata": {
            "tags": []
          },
          "execution_count": 29
        }
      ]
    },
    {
      "cell_type": "code",
      "metadata": {
        "id": "63DNr7ez_doZ",
        "colab_type": "code",
        "outputId": "943cd868-ce18-41e8-a976-759519110063",
        "colab": {
          "base_uri": "https://localhost:8080/",
          "height": 282
        }
      },
      "source": [
        "data_loss_nn[['loss','val_loss']].plot(kind='line')"
      ],
      "execution_count": 0,
      "outputs": [
        {
          "output_type": "execute_result",
          "data": {
            "text/plain": [
              "<matplotlib.axes._subplots.AxesSubplot at 0x7f39e51dbe48>"
            ]
          },
          "metadata": {
            "tags": []
          },
          "execution_count": 30
        },
        {
          "output_type": "display_data",
          "data": {
            "image/png": "[encoded data removed]",
            "text/plain": [
              "<Figure size 432x288 with 1 Axes>"
            ]
          },
          "metadata": {
            "tags": []
          }
        }
      ]
    },
    {
      "cell_type": "code",
      "metadata": {
        "id": "EFi70yRZ_pj2",
        "colab_type": "code",
        "colab": {}
      },
      "source": [
        "y_pred = conv_nn.predict_classes(x_test_reshape)\n",
        "y_prob = conv_nn.predict_proba(x_test_reshape)"
      ],
      "execution_count": 0,
      "outputs": []
    },
    {
      "cell_type": "code",
      "metadata": {
        "id": "Q5UdymabAOdY",
        "colab_type": "code",
        "colab": {}
      },
      "source": [
        "from sklearn import metrics"
      ],
      "execution_count": 0,
      "outputs": []
    },
    {
      "cell_type": "code",
      "metadata": {
        "id": "WrLsASnwEU9n",
        "colab_type": "code",
        "colab": {}
      },
      "source": [
        "y_test_class = ohe.inverse_transform(y_test)"
      ],
      "execution_count": 0,
      "outputs": []
    },
    {
      "cell_type": "code",
      "metadata": {
        "id": "wqK0EnBDEqSv",
        "colab_type": "code",
        "colab": {}
      },
      "source": [
        "import numpy as np\n",
        "from sklearn.metrics import confusion_matrix, classification_report\n",
        "from sklearn.metrics import cohen_kappa_score, roc_auc_score\n",
        "from sklearn.metrics import roc_curve, auc\n",
        "import matplotlib.pyplot as plt\n",
        "import seaborn as sns\n",
        "from sklearn.metrics import log_loss\n",
        "\n",
        "def classification_metric(y_test,y_pred,y_prob,label,n=1,verbose=False):\n",
        "    \"\"\"\n",
        "    Note: only for binary classification\n",
        "    confusionmatrix(y_true,y_pred,labels=['No','Yes'])\n",
        "    \"\"\"\n",
        "    # confusion matrix\n",
        "    cm = confusion_matrix(y_test,y_pred)\n",
        "    row_sum = cm.sum(axis=0)\n",
        "    cm = np.append(cm,row_sum.reshape(1,-1),axis=0)\n",
        "    col_sum = cm.sum(axis=1)\n",
        "    cm = np.append(cm,col_sum.reshape(-1,1),axis=1)\n",
        "\n",
        "    labels = label+['Total']\n",
        "    plt.figure(figsize=(10,6))\n",
        "    sns.heatmap(cm,annot=True,cmap='summer',fmt='0.2f',xticklabels=labels,\n",
        "                yticklabels=labels,linewidths=3,cbar=None,)\n",
        "\n",
        "    plt.xlabel('Predicted Values')\n",
        "    plt.ylabel('Actual Values')\n",
        "    plt.title('Confusion Matrix')\n",
        "    plt.show()\n",
        "    \n",
        "    print('*'*30+'Classifcation Report'+'*'*30+'\\n\\n')\n",
        "    cr = classification_report(y_test,y_pred)\n",
        "    print(cr)\n",
        "    \n",
        "    print('\\n'+'*'*36+'Kappa Score'+'*'*36+'\\n\\n')\n",
        "    # Kappa score\n",
        "    kappa = cohen_kappa_score(y_test,y_pred) # Kappa Score\n",
        "    print('Kappa Score =',kappa)\n",
        "    \n",
        "    \n",
        "    \n",
        "    \n",
        "class threshold():\n",
        "    '''\n",
        "    Setting up the threshold points\n",
        "    '''\n",
        "    def __init__(self):\n",
        "        self.th = 0.5\n",
        "        \n",
        "    def predict_threshold(self,y):\n",
        "        if y >= self.th:\n",
        "            return 1\n",
        "        else:\n",
        "            return 0"
      ],
      "execution_count": 0,
      "outputs": []
    },
    {
      "cell_type": "code",
      "metadata": {
        "id": "-RSREnQgE6_V",
        "colab_type": "code",
        "colab": {}
      },
      "source": [
        "y_test_class = ohe.inverse_transform(y_test)"
      ],
      "execution_count": 0,
      "outputs": []
    },
    {
      "cell_type": "code",
      "metadata": {
        "id": "uVkeAmk-HoJB",
        "colab_type": "code",
        "colab": {}
      },
      "source": [
        "from sklearn.preprocessing import LabelEncoder"
      ],
      "execution_count": 0,
      "outputs": []
    },
    {
      "cell_type": "code",
      "metadata": {
        "id": "rWT-ksNcI5rf",
        "colab_type": "code",
        "outputId": "8f0f24fe-5e9a-47e5-932f-7f20ccaa59a5",
        "colab": {
          "base_uri": "https://localhost:8080/",
          "height": 71
        }
      },
      "source": [
        "yy=ohe.inverse_transform(y_test)\n",
        "y_label=LabelEncoder()\n",
        "y_pp=y_label.fit_transform(yy)"
      ],
      "execution_count": 0,
      "outputs": [
        {
          "output_type": "stream",
          "text": [
            "/usr/local/lib/python3.6/dist-packages/sklearn/preprocessing/label.py:235: DataConversionWarning: A column-vector y was passed when a 1d array was expected. Please change the shape of y to (n_samples, ), for example using ravel().\n",
            "  y = column_or_1d(y, warn=True)\n"
          ],
          "name": "stderr"
        }
      ]
    },
    {
      "cell_type": "code",
      "metadata": {
        "id": "IobJQ9FzEbU2",
        "colab_type": "code",
        "outputId": "1b4e920d-f7d8-4b7a-d954-5ac74f4b7328",
        "colab": {
          "base_uri": "https://localhost:8080/",
          "height": 795
        }
      },
      "source": [
        "classification_metric(y_pp,y_pred,y_prob,label=[0,1,2,3,4,5,6,7])"
      ],
      "execution_count": 0,
      "outputs": [
        {
          "output_type": "display_data",
          "data": {
            "image/png": "[encoded data removed]",
            "text/plain": [
              "<Figure size 720x432 with 1 Axes>"
            ]
          },
          "metadata": {
            "tags": []
          }
        },
        {
          "output_type": "stream",
          "text": [
            "******************************Classifcation Report******************************\n",
            "\n",
            "\n",
            "              precision    recall  f1-score   support\n",
            "\n",
            "           0       0.96      0.91      0.93        55\n",
            "           1       0.94      1.00      0.97        45\n",
            "           2       0.92      0.92      0.92        24\n",
            "           3       0.98      0.99      0.98        93\n",
            "           4       0.91      1.00      0.95        67\n",
            "           5       0.67      0.50      0.57        12\n",
            "           6       0.55      0.60      0.57        10\n",
            "           7       0.83      0.66      0.73        29\n",
            "\n",
            "    accuracy                           0.92       335\n",
            "   macro avg       0.84      0.82      0.83       335\n",
            "weighted avg       0.91      0.92      0.91       335\n",
            "\n",
            "\n",
            "************************************Kappa Score************************************\n",
            "\n",
            "\n",
            "Kappa Score = 0.8980922167658946\n"
          ],
          "name": "stdout"
        }
      ]
    },
    {
      "cell_type": "markdown",
      "metadata": {
        "id": "inbc7D1S8DTP",
        "colab_type": "text"
      },
      "source": [
        "# **Testing using trained model** "
      ]
    },
    {
      "cell_type": "code",
      "metadata": {
        "id": "QSWYItiKEfVs",
        "colab_type": "code",
        "colab": {}
      },
      "source": [
        "df2=pd.read_csv('hackathon_images_test.csv')"
      ],
      "execution_count": 0,
      "outputs": []
    },
    {
      "cell_type": "code",
      "metadata": {
        "id": "Xq8oVVE3MyCj",
        "colab_type": "code",
        "outputId": "cfa53c2c-9144-4452-f02b-5fe1471c2d02",
        "colab": {
          "base_uri": "https://localhost:8080/",
          "height": 253
        }
      },
      "source": [
        "df2.head()"
      ],
      "execution_count": 0,
      "outputs": [
        {
          "output_type": "execute_result",
          "data": {
            "text/html": [
              "<div>\n",
              "<style scoped>\n",
              "    .dataframe tbody tr th:only-of-type {\n",
              "        vertical-align: middle;\n",
              "    }\n",
              "\n",
              "    .dataframe tbody tr th {\n",
              "        vertical-align: top;\n",
              "    }\n",
              "\n",
              "    .dataframe thead th {\n",
              "        text-align: right;\n",
              "    }\n",
              "</style>\n",
              "<table border=\"1\" class=\"dataframe\">\n",
              "  <thead>\n",
              "    <tr style=\"text-align: right;\">\n",
              "      <th></th>\n",
              "      <th>Labels</th>\n",
              "      <th>pixels0</th>\n",
              "      <th>pixels1</th>\n",
              "      <th>pixels2</th>\n",
              "      <th>pixels3</th>\n",
              "      <th>pixels4</th>\n",
              "      <th>pixels5</th>\n",
              "      <th>pixels6</th>\n",
              "      <th>pixels7</th>\n",
              "      <th>pixels8</th>\n",
              "      <th>pixels9</th>\n",
              "      <th>pixels10</th>\n",
              "      <th>pixels11</th>\n",
              "      <th>pixels12</th>\n",
              "      <th>pixels13</th>\n",
              "      <th>pixels14</th>\n",
              "      <th>pixels15</th>\n",
              "      <th>pixels16</th>\n",
              "      <th>pixels17</th>\n",
              "      <th>pixels18</th>\n",
              "      <th>pixels19</th>\n",
              "      <th>pixels20</th>\n",
              "      <th>pixels21</th>\n",
              "      <th>pixels22</th>\n",
              "      <th>pixels23</th>\n",
              "      <th>pixels24</th>\n",
              "      <th>pixels25</th>\n",
              "      <th>pixels26</th>\n",
              "      <th>pixels27</th>\n",
              "      <th>pixels28</th>\n",
              "      <th>pixels29</th>\n",
              "      <th>pixels30</th>\n",
              "      <th>pixels31</th>\n",
              "      <th>pixels32</th>\n",
              "      <th>pixels33</th>\n",
              "      <th>pixels34</th>\n",
              "      <th>pixels35</th>\n",
              "      <th>pixels36</th>\n",
              "      <th>pixels37</th>\n",
              "      <th>pixels38</th>\n",
              "      <th>...</th>\n",
              "      <th>pixels9960</th>\n",
              "      <th>pixels9961</th>\n",
              "      <th>pixels9962</th>\n",
              "      <th>pixels9963</th>\n",
              "      <th>pixels9964</th>\n",
              "      <th>pixels9965</th>\n",
              "      <th>pixels9966</th>\n",
              "      <th>pixels9967</th>\n",
              "      <th>pixels9968</th>\n",
              "      <th>pixels9969</th>\n",
              "      <th>pixels9970</th>\n",
              "      <th>pixels9971</th>\n",
              "      <th>pixels9972</th>\n",
              "      <th>pixels9973</th>\n",
              "      <th>pixels9974</th>\n",
              "      <th>pixels9975</th>\n",
              "      <th>pixels9976</th>\n",
              "      <th>pixels9977</th>\n",
              "      <th>pixels9978</th>\n",
              "      <th>pixels9979</th>\n",
              "      <th>pixels9980</th>\n",
              "      <th>pixels9981</th>\n",
              "      <th>pixels9982</th>\n",
              "      <th>pixels9983</th>\n",
              "      <th>pixels9984</th>\n",
              "      <th>pixels9985</th>\n",
              "      <th>pixels9986</th>\n",
              "      <th>pixels9987</th>\n",
              "      <th>pixels9988</th>\n",
              "      <th>pixels9989</th>\n",
              "      <th>pixels9990</th>\n",
              "      <th>pixels9991</th>\n",
              "      <th>pixels9992</th>\n",
              "      <th>pixels9993</th>\n",
              "      <th>pixels9994</th>\n",
              "      <th>pixels9995</th>\n",
              "      <th>pixels9996</th>\n",
              "      <th>pixels9997</th>\n",
              "      <th>pixels9998</th>\n",
              "      <th>pixels9999</th>\n",
              "    </tr>\n",
              "  </thead>\n",
              "  <tbody>\n",
              "    <tr>\n",
              "      <th>0</th>\n",
              "      <td>Leopards</td>\n",
              "      <td>2.0</td>\n",
              "      <td>4.0</td>\n",
              "      <td>2.0</td>\n",
              "      <td>0.0</td>\n",
              "      <td>3.0</td>\n",
              "      <td>3.0</td>\n",
              "      <td>5.0</td>\n",
              "      <td>3.0</td>\n",
              "      <td>2.0</td>\n",
              "      <td>2.0</td>\n",
              "      <td>2.0</td>\n",
              "      <td>3.0</td>\n",
              "      <td>3.0</td>\n",
              "      <td>3.0</td>\n",
              "      <td>3.0</td>\n",
              "      <td>3.0</td>\n",
              "      <td>5.0</td>\n",
              "      <td>3.0</td>\n",
              "      <td>1.0</td>\n",
              "      <td>1.0</td>\n",
              "      <td>0.0</td>\n",
              "      <td>1.0</td>\n",
              "      <td>1.0</td>\n",
              "      <td>0.0</td>\n",
              "      <td>3.0</td>\n",
              "      <td>0.0</td>\n",
              "      <td>2.0</td>\n",
              "      <td>2.0</td>\n",
              "      <td>0.0</td>\n",
              "      <td>0.0</td>\n",
              "      <td>1.0</td>\n",
              "      <td>0.0</td>\n",
              "      <td>0.0</td>\n",
              "      <td>0.0</td>\n",
              "      <td>1.0</td>\n",
              "      <td>1.0</td>\n",
              "      <td>2.0</td>\n",
              "      <td>1.0</td>\n",
              "      <td>1.0</td>\n",
              "      <td>...</td>\n",
              "      <td>1.0</td>\n",
              "      <td>1.0</td>\n",
              "      <td>2.0</td>\n",
              "      <td>2.0</td>\n",
              "      <td>2.0</td>\n",
              "      <td>2.0</td>\n",
              "      <td>2.0</td>\n",
              "      <td>1.0</td>\n",
              "      <td>1.0</td>\n",
              "      <td>2.0</td>\n",
              "      <td>2.0</td>\n",
              "      <td>2.0</td>\n",
              "      <td>2.0</td>\n",
              "      <td>2.0</td>\n",
              "      <td>2.0</td>\n",
              "      <td>2.0</td>\n",
              "      <td>1.0</td>\n",
              "      <td>1.0</td>\n",
              "      <td>2.0</td>\n",
              "      <td>3.0</td>\n",
              "      <td>4.0</td>\n",
              "      <td>1.0</td>\n",
              "      <td>1.0</td>\n",
              "      <td>1.0</td>\n",
              "      <td>1.0</td>\n",
              "      <td>1.0</td>\n",
              "      <td>1.0</td>\n",
              "      <td>1.0</td>\n",
              "      <td>2.0</td>\n",
              "      <td>3.0</td>\n",
              "      <td>4.0</td>\n",
              "      <td>4.0</td>\n",
              "      <td>2.0</td>\n",
              "      <td>2.0</td>\n",
              "      <td>3.0</td>\n",
              "      <td>6.0</td>\n",
              "      <td>0.0</td>\n",
              "      <td>5.0</td>\n",
              "      <td>1.0</td>\n",
              "      <td>5.0</td>\n",
              "    </tr>\n",
              "    <tr>\n",
              "      <th>1</th>\n",
              "      <td>bonsai</td>\n",
              "      <td>255.0</td>\n",
              "      <td>255.0</td>\n",
              "      <td>255.0</td>\n",
              "      <td>255.0</td>\n",
              "      <td>255.0</td>\n",
              "      <td>255.0</td>\n",
              "      <td>255.0</td>\n",
              "      <td>255.0</td>\n",
              "      <td>255.0</td>\n",
              "      <td>255.0</td>\n",
              "      <td>255.0</td>\n",
              "      <td>255.0</td>\n",
              "      <td>255.0</td>\n",
              "      <td>255.0</td>\n",
              "      <td>255.0</td>\n",
              "      <td>255.0</td>\n",
              "      <td>255.0</td>\n",
              "      <td>255.0</td>\n",
              "      <td>255.0</td>\n",
              "      <td>255.0</td>\n",
              "      <td>255.0</td>\n",
              "      <td>255.0</td>\n",
              "      <td>255.0</td>\n",
              "      <td>255.0</td>\n",
              "      <td>255.0</td>\n",
              "      <td>255.0</td>\n",
              "      <td>255.0</td>\n",
              "      <td>255.0</td>\n",
              "      <td>255.0</td>\n",
              "      <td>255.0</td>\n",
              "      <td>255.0</td>\n",
              "      <td>255.0</td>\n",
              "      <td>255.0</td>\n",
              "      <td>255.0</td>\n",
              "      <td>255.0</td>\n",
              "      <td>255.0</td>\n",
              "      <td>255.0</td>\n",
              "      <td>255.0</td>\n",
              "      <td>255.0</td>\n",
              "      <td>...</td>\n",
              "      <td>116.0</td>\n",
              "      <td>192.0</td>\n",
              "      <td>223.0</td>\n",
              "      <td>161.0</td>\n",
              "      <td>143.0</td>\n",
              "      <td>135.0</td>\n",
              "      <td>70.0</td>\n",
              "      <td>195.0</td>\n",
              "      <td>153.0</td>\n",
              "      <td>146.0</td>\n",
              "      <td>171.0</td>\n",
              "      <td>242.0</td>\n",
              "      <td>81.0</td>\n",
              "      <td>161.0</td>\n",
              "      <td>89.0</td>\n",
              "      <td>150.0</td>\n",
              "      <td>201.0</td>\n",
              "      <td>242.0</td>\n",
              "      <td>93.0</td>\n",
              "      <td>153.0</td>\n",
              "      <td>156.0</td>\n",
              "      <td>124.0</td>\n",
              "      <td>246.0</td>\n",
              "      <td>136.0</td>\n",
              "      <td>205.0</td>\n",
              "      <td>252.0</td>\n",
              "      <td>251.0</td>\n",
              "      <td>251.0</td>\n",
              "      <td>253.0</td>\n",
              "      <td>253.0</td>\n",
              "      <td>253.0</td>\n",
              "      <td>254.0</td>\n",
              "      <td>255.0</td>\n",
              "      <td>255.0</td>\n",
              "      <td>255.0</td>\n",
              "      <td>254.0</td>\n",
              "      <td>255.0</td>\n",
              "      <td>255.0</td>\n",
              "      <td>255.0</td>\n",
              "      <td>141.0</td>\n",
              "    </tr>\n",
              "    <tr>\n",
              "      <th>2</th>\n",
              "      <td>Faces_easy</td>\n",
              "      <td>153.0</td>\n",
              "      <td>152.0</td>\n",
              "      <td>153.0</td>\n",
              "      <td>154.0</td>\n",
              "      <td>155.0</td>\n",
              "      <td>153.0</td>\n",
              "      <td>159.0</td>\n",
              "      <td>160.0</td>\n",
              "      <td>157.0</td>\n",
              "      <td>157.0</td>\n",
              "      <td>157.0</td>\n",
              "      <td>157.0</td>\n",
              "      <td>157.0</td>\n",
              "      <td>157.0</td>\n",
              "      <td>158.0</td>\n",
              "      <td>159.0</td>\n",
              "      <td>158.0</td>\n",
              "      <td>163.0</td>\n",
              "      <td>160.0</td>\n",
              "      <td>160.0</td>\n",
              "      <td>162.0</td>\n",
              "      <td>161.0</td>\n",
              "      <td>162.0</td>\n",
              "      <td>159.0</td>\n",
              "      <td>161.0</td>\n",
              "      <td>162.0</td>\n",
              "      <td>164.0</td>\n",
              "      <td>164.0</td>\n",
              "      <td>163.0</td>\n",
              "      <td>159.0</td>\n",
              "      <td>161.0</td>\n",
              "      <td>164.0</td>\n",
              "      <td>166.0</td>\n",
              "      <td>167.0</td>\n",
              "      <td>162.0</td>\n",
              "      <td>162.0</td>\n",
              "      <td>162.0</td>\n",
              "      <td>165.0</td>\n",
              "      <td>164.0</td>\n",
              "      <td>...</td>\n",
              "      <td>215.0</td>\n",
              "      <td>213.0</td>\n",
              "      <td>207.0</td>\n",
              "      <td>210.0</td>\n",
              "      <td>110.0</td>\n",
              "      <td>78.0</td>\n",
              "      <td>85.0</td>\n",
              "      <td>86.0</td>\n",
              "      <td>78.0</td>\n",
              "      <td>82.0</td>\n",
              "      <td>83.0</td>\n",
              "      <td>88.0</td>\n",
              "      <td>75.0</td>\n",
              "      <td>66.0</td>\n",
              "      <td>62.0</td>\n",
              "      <td>61.0</td>\n",
              "      <td>70.0</td>\n",
              "      <td>71.0</td>\n",
              "      <td>87.0</td>\n",
              "      <td>78.0</td>\n",
              "      <td>77.0</td>\n",
              "      <td>74.0</td>\n",
              "      <td>61.0</td>\n",
              "      <td>62.0</td>\n",
              "      <td>67.0</td>\n",
              "      <td>67.0</td>\n",
              "      <td>65.0</td>\n",
              "      <td>69.0</td>\n",
              "      <td>74.0</td>\n",
              "      <td>71.0</td>\n",
              "      <td>73.0</td>\n",
              "      <td>69.0</td>\n",
              "      <td>69.0</td>\n",
              "      <td>80.0</td>\n",
              "      <td>78.0</td>\n",
              "      <td>76.0</td>\n",
              "      <td>75.0</td>\n",
              "      <td>75.0</td>\n",
              "      <td>73.0</td>\n",
              "      <td>72.0</td>\n",
              "    </tr>\n",
              "    <tr>\n",
              "      <th>3</th>\n",
              "      <td>Motorbikes</td>\n",
              "      <td>255.0</td>\n",
              "      <td>255.0</td>\n",
              "      <td>255.0</td>\n",
              "      <td>255.0</td>\n",
              "      <td>255.0</td>\n",
              "      <td>255.0</td>\n",
              "      <td>255.0</td>\n",
              "      <td>255.0</td>\n",
              "      <td>255.0</td>\n",
              "      <td>255.0</td>\n",
              "      <td>255.0</td>\n",
              "      <td>255.0</td>\n",
              "      <td>255.0</td>\n",
              "      <td>255.0</td>\n",
              "      <td>255.0</td>\n",
              "      <td>255.0</td>\n",
              "      <td>255.0</td>\n",
              "      <td>255.0</td>\n",
              "      <td>255.0</td>\n",
              "      <td>255.0</td>\n",
              "      <td>255.0</td>\n",
              "      <td>255.0</td>\n",
              "      <td>255.0</td>\n",
              "      <td>255.0</td>\n",
              "      <td>255.0</td>\n",
              "      <td>255.0</td>\n",
              "      <td>255.0</td>\n",
              "      <td>255.0</td>\n",
              "      <td>255.0</td>\n",
              "      <td>255.0</td>\n",
              "      <td>255.0</td>\n",
              "      <td>255.0</td>\n",
              "      <td>255.0</td>\n",
              "      <td>255.0</td>\n",
              "      <td>255.0</td>\n",
              "      <td>255.0</td>\n",
              "      <td>255.0</td>\n",
              "      <td>255.0</td>\n",
              "      <td>255.0</td>\n",
              "      <td>...</td>\n",
              "      <td>255.0</td>\n",
              "      <td>255.0</td>\n",
              "      <td>255.0</td>\n",
              "      <td>255.0</td>\n",
              "      <td>255.0</td>\n",
              "      <td>255.0</td>\n",
              "      <td>255.0</td>\n",
              "      <td>255.0</td>\n",
              "      <td>255.0</td>\n",
              "      <td>255.0</td>\n",
              "      <td>255.0</td>\n",
              "      <td>255.0</td>\n",
              "      <td>255.0</td>\n",
              "      <td>255.0</td>\n",
              "      <td>255.0</td>\n",
              "      <td>255.0</td>\n",
              "      <td>255.0</td>\n",
              "      <td>255.0</td>\n",
              "      <td>255.0</td>\n",
              "      <td>255.0</td>\n",
              "      <td>255.0</td>\n",
              "      <td>255.0</td>\n",
              "      <td>255.0</td>\n",
              "      <td>255.0</td>\n",
              "      <td>255.0</td>\n",
              "      <td>255.0</td>\n",
              "      <td>255.0</td>\n",
              "      <td>255.0</td>\n",
              "      <td>255.0</td>\n",
              "      <td>255.0</td>\n",
              "      <td>255.0</td>\n",
              "      <td>255.0</td>\n",
              "      <td>255.0</td>\n",
              "      <td>255.0</td>\n",
              "      <td>255.0</td>\n",
              "      <td>255.0</td>\n",
              "      <td>255.0</td>\n",
              "      <td>255.0</td>\n",
              "      <td>255.0</td>\n",
              "      <td>255.0</td>\n",
              "    </tr>\n",
              "    <tr>\n",
              "      <th>4</th>\n",
              "      <td>Motorbikes</td>\n",
              "      <td>255.0</td>\n",
              "      <td>255.0</td>\n",
              "      <td>255.0</td>\n",
              "      <td>255.0</td>\n",
              "      <td>255.0</td>\n",
              "      <td>255.0</td>\n",
              "      <td>254.0</td>\n",
              "      <td>255.0</td>\n",
              "      <td>254.0</td>\n",
              "      <td>207.0</td>\n",
              "      <td>208.0</td>\n",
              "      <td>212.0</td>\n",
              "      <td>211.0</td>\n",
              "      <td>211.0</td>\n",
              "      <td>211.0</td>\n",
              "      <td>212.0</td>\n",
              "      <td>213.0</td>\n",
              "      <td>214.0</td>\n",
              "      <td>213.0</td>\n",
              "      <td>213.0</td>\n",
              "      <td>213.0</td>\n",
              "      <td>213.0</td>\n",
              "      <td>216.0</td>\n",
              "      <td>216.0</td>\n",
              "      <td>215.0</td>\n",
              "      <td>215.0</td>\n",
              "      <td>215.0</td>\n",
              "      <td>216.0</td>\n",
              "      <td>216.0</td>\n",
              "      <td>216.0</td>\n",
              "      <td>218.0</td>\n",
              "      <td>217.0</td>\n",
              "      <td>216.0</td>\n",
              "      <td>216.0</td>\n",
              "      <td>219.0</td>\n",
              "      <td>219.0</td>\n",
              "      <td>217.0</td>\n",
              "      <td>219.0</td>\n",
              "      <td>218.0</td>\n",
              "      <td>...</td>\n",
              "      <td>39.0</td>\n",
              "      <td>41.0</td>\n",
              "      <td>44.0</td>\n",
              "      <td>45.0</td>\n",
              "      <td>45.0</td>\n",
              "      <td>50.0</td>\n",
              "      <td>51.0</td>\n",
              "      <td>53.0</td>\n",
              "      <td>53.0</td>\n",
              "      <td>54.0</td>\n",
              "      <td>57.0</td>\n",
              "      <td>57.0</td>\n",
              "      <td>59.0</td>\n",
              "      <td>62.0</td>\n",
              "      <td>64.0</td>\n",
              "      <td>63.0</td>\n",
              "      <td>65.0</td>\n",
              "      <td>67.0</td>\n",
              "      <td>67.0</td>\n",
              "      <td>67.0</td>\n",
              "      <td>70.0</td>\n",
              "      <td>75.0</td>\n",
              "      <td>77.0</td>\n",
              "      <td>80.0</td>\n",
              "      <td>79.0</td>\n",
              "      <td>79.0</td>\n",
              "      <td>84.0</td>\n",
              "      <td>81.0</td>\n",
              "      <td>83.0</td>\n",
              "      <td>84.0</td>\n",
              "      <td>86.0</td>\n",
              "      <td>87.0</td>\n",
              "      <td>86.0</td>\n",
              "      <td>85.0</td>\n",
              "      <td>88.0</td>\n",
              "      <td>92.0</td>\n",
              "      <td>254.0</td>\n",
              "      <td>255.0</td>\n",
              "      <td>255.0</td>\n",
              "      <td>255.0</td>\n",
              "    </tr>\n",
              "  </tbody>\n",
              "</table>\n",
              "<p>5 rows × 10001 columns</p>\n",
              "</div>"
            ],
            "text/plain": [
              "       Labels  pixels0  pixels1  ...  pixels9997  pixels9998  pixels9999\n",
              "0    Leopards      2.0      4.0  ...         5.0         1.0         5.0\n",
              "1      bonsai    255.0    255.0  ...       255.0       255.0       141.0\n",
              "2  Faces_easy    153.0    152.0  ...        75.0        73.0        72.0\n",
              "3  Motorbikes    255.0    255.0  ...       255.0       255.0       255.0\n",
              "4  Motorbikes    255.0    255.0  ...       255.0       255.0       255.0\n",
              "\n",
              "[5 rows x 10001 columns]"
            ]
          },
          "metadata": {
            "tags": []
          },
          "execution_count": 68
        }
      ]
    },
    {
      "cell_type": "code",
      "metadata": {
        "id": "OmnCW3BcNfjf",
        "colab_type": "code",
        "outputId": "7076f2ab-be59-464a-8dcc-63c83bb093e5",
        "colab": {
          "base_uri": "https://localhost:8080/",
          "height": 34
        }
      },
      "source": [
        "X1.shape"
      ],
      "execution_count": 0,
      "outputs": [
        {
          "output_type": "execute_result",
          "data": {
            "text/plain": [
              "(1118, 100, 100, 1)"
            ]
          },
          "metadata": {
            "tags": []
          },
          "execution_count": 71
        }
      ]
    },
    {
      "cell_type": "code",
      "metadata": {
        "id": "eocjoIq-nYXs",
        "colab_type": "code",
        "colab": {}
      },
      "source": [
        "y_pp1=y_label.transform(df2['Labels'])"
      ],
      "execution_count": 0,
      "outputs": []
    },
    {
      "cell_type": "code",
      "metadata": {
        "id": "Wd7RRPkUNl9N",
        "colab_type": "code",
        "colab": {}
      },
      "source": [
        "y_pred = conv_nn.predict_classes(X1)\n",
        "y_prob = conv_nn.predict_proba(X1)"
      ],
      "execution_count": 0,
      "outputs": []
    },
    {
      "cell_type": "code",
      "metadata": {
        "id": "MevYsn87OfxD",
        "colab_type": "code",
        "outputId": "ce27da40-1b74-44bc-f1aa-5d3df34b1a51",
        "colab": {
          "base_uri": "https://localhost:8080/",
          "height": 51
        }
      },
      "source": [
        "y_label.classes_"
      ],
      "execution_count": 0,
      "outputs": [
        {
          "output_type": "execute_result",
          "data": {
            "text/plain": [
              "array(['Faces', 'Faces_easy', 'Leopards', 'Motorbikes', 'airplanes',\n",
              "       'bonsai', 'grand_piano', 'watch'], dtype=object)"
            ]
          },
          "metadata": {
            "tags": []
          },
          "execution_count": 73
        }
      ]
    },
    {
      "cell_type": "code",
      "metadata": {
        "id": "HwwFlMB4lUWQ",
        "colab_type": "code",
        "outputId": "726c64ad-cdb0-49cf-9699-45582b20db7b",
        "colab": {
          "base_uri": "https://localhost:8080/",
          "height": 796
        }
      },
      "source": [
        "classification_metric(y_pp1,y_pred,y_prob,label=['Faces', 'Faces_easy', 'Leopards', 'Motorbikes', 'airplanes','bonsai', 'grand_piano', 'watch'])"
      ],
      "execution_count": 0,
      "outputs": [
        {
          "output_type": "display_data",
          "data": {
            "image/png": "[encoded data removed]",
            "text/plain": [
              "<Figure size 720x432 with 1 Axes>"
            ]
          },
          "metadata": {
            "tags": []
          }
        },
        {
          "output_type": "stream",
          "text": [
            "******************************Classifcation Report******************************\n",
            "\n",
            "\n",
            "              precision    recall  f1-score   support\n",
            "\n",
            "           0       0.89      0.91      0.90       176\n",
            "           1       0.94      0.99      0.96       179\n",
            "           2       0.92      0.84      0.88        83\n",
            "           3       0.97      0.98      0.97       310\n",
            "           4       0.89      0.98      0.93       181\n",
            "           5       0.90      0.63      0.74        57\n",
            "           6       0.86      0.83      0.85        36\n",
            "           7       0.86      0.77      0.81        96\n",
            "\n",
            "    accuracy                           0.92      1118\n",
            "   macro avg       0.90      0.87      0.88      1118\n",
            "weighted avg       0.92      0.92      0.92      1118\n",
            "\n",
            "\n",
            "************************************Kappa Score************************************\n",
            "\n",
            "\n",
            "Kappa Score = 0.9026184242999066\n"
          ],
          "name": "stdout"
        }
      ]
    },
    {
      "cell_type": "code",
      "metadata": {
        "id": "ItlIS7RdmMqO",
        "colab_type": "code",
        "colab": {}
      },
      "source": [
        ""
      ],
      "execution_count": 0,
      "outputs": []
    }
  ]
}